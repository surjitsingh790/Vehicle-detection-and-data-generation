{
 "cells": [
  {
   "cell_type": "code",
   "execution_count": 1,
   "id": "022dd421",
   "metadata": {},
   "outputs": [],
   "source": [
    "import numpy as np\n",
    "import os\n",
    "import pandas as pd\n",
    "import subprocess"
   ]
  },
  {
   "cell_type": "code",
   "execution_count": 2,
   "id": "bcef4347",
   "metadata": {},
   "outputs": [
    {
     "name": "stdout",
     "output_type": "stream",
     "text": [
      "['VID_20211027_162856.mp4', 'VID_20211027_162910.mp4', 'VID_20211027_162923.mp4', 'VID_20211027_162937.mp4', 'VID_20211027_162951.mp4', 'VID_20211027_163005.mp4', 'VID_20211027_163019.mp4', 'VID_20211027_163032.mp4', 'VID_20211027_163045.mp4', 'VID_20211027_163059.mp4', 'VID_20211027_163111.mp4', 'VID_20211027_163126.mp4', 'VID_20211027_163139.mp4', 'VID_20211027_163157.mp4', 'VID_20211027_163211.mp4', 'VID_20211027_163223.mp4', 'VID_20211027_163247.mp4', 'VID_20211027_163300.mp4', 'VID_20211027_163312.mp4', 'VID_20211027_163324.mp4', 'VID_20211027_163338.mp4', 'VID_20211027_163350.mp4', 'VID_20211027_163403.mp4', 'VID_20211027_163416.mp4', 'VID_20211027_163429.mp4', 'VID_20211027_163442.mp4', 'VID_20211027_163455.mp4', 'VID_20211027_163509.mp4', 'VID_20211027_163522.mp4', 'VID_20211027_163534.mp4', 'VID_20211027_163547.mp4', 'VID_20211027_163600.mp4', 'VID_20211027_163614.mp4', 'VID_20211027_163630.mp4', 'VID_20211027_163644.mp4', 'VID_20211027_163657.mp4', 'VID_20211027_163710.mp4', 'VID_20211027_163724.mp4', 'VID_20211027_163737.mp4', 'VID_20211027_163751.mp4', 'VID_20211027_163807.mp4', 'VID_20211027_163820.mp4', 'VID_20211027_163833.mp4', 'VID_20211027_163847.mp4', 'VID_20211027_163900.mp4', 'VID_20211027_163912.mp4', 'VID_20211027_163925.mp4', 'VID_20211027_163939.mp4', 'VID_20211027_163952.mp4', 'VID_20211027_164005.mp4', 'VID_20211027_164018.mp4', 'VID_20211027_164031.mp4', 'VID_20211027_164043.mp4', 'VID_20211027_164056.mp4', 'VID_20211027_164107.mp4', 'VID_20211027_164120.mp4', 'VID_20211027_164133.mp4', 'VID_20211027_164146.mp4', 'VID_20211027_164158.mp4', 'VID_20211027_164213.mp4', 'VID_20211027_164225.mp4', 'VID_20211027_164238.mp4', 'VID_20211027_164250.mp4', 'VID_20211027_164303.mp4', 'VID_20211027_164316.mp4', 'VID_20211027_164330.mp4', 'VID_20211027_164342.mp4', 'VID_20211027_164400.mp4', 'VID_20211027_164414.mp4', 'VID_20211027_164426.mp4', 'VID_20211027_164439.mp4', 'VID_20211027_164452.mp4', 'VID_20211027_164506.mp4', 'VID_20211027_164518.mp4', 'VID_20211027_164531.mp4', 'VID_20211027_164549.mp4', 'VID_20211027_164603.mp4', 'VID_20211027_164615.mp4', 'VID_20211027_164628.mp4', 'VID_20211027_164640.mp4', 'VID_20211027_164653.mp4', 'VID_20211027_164706.mp4', 'VID_20211027_164724.mp4', 'VID_20211027_164738.mp4', 'VID_20211027_164756.mp4', 'VID_20211027_164809.mp4', 'VID_20211027_164821.mp4', 'VID_20211027_164834.mp4', 'VID_20211027_164852.mp4', 'VID_20211027_164904.mp4', 'VID_20211027_164917.mp4', 'VID_20211027_164931.mp4', 'VID_20211027_164945.mp4', 'VID_20211027_164958.mp4', 'VID_20211027_165011.mp4', 'VID_20211027_165023.mp4', 'VID_20211027_165035.mp4', 'VID_20211027_165048.mp4', 'VID_20211027_165100.mp4', 'VID_20211027_165113.mp4', 'VID_20211027_165129.mp4', 'VID_20211027_165142.mp4', 'VID_20211027_165155.mp4', 'VID_20211027_165208.mp4', 'VID_20211027_165226.mp4', 'VID_20211027_165238.mp4', 'VID_20211027_165251.mp4', 'VID_20211027_165303.mp4', 'VID_20211027_165316.mp4', 'VID_20211027_165329.mp4', 'VID_20211027_165342.mp4', 'VID_20211027_165354.mp4', 'VID_20211027_165407.mp4', 'VID_20211027_165420.mp4', 'VID_20211027_165433.mp4', 'VID_20211027_165446.mp4', 'VID_20211027_165502.mp4', 'VID_20211027_165515.mp4', 'VID_20211027_165528.mp4', 'VID_20211027_165541.mp4', 'VID_20211027_165557.mp4', 'VID_20211027_165617.mp4', 'VID_20211027_165629.mp4', 'VID_20211027_165642.mp4', 'VID_20211027_165655.mp4', 'VID_20211027_165707.mp4', 'VID_20211027_165720.mp4', 'VID_20211027_165733.mp4', 'VID_20211027_165747.mp4', 'VID_20211027_165759.mp4', 'VID_20211027_165812.mp4', 'VID_20211027_165824.mp4', 'VID_20211027_165837.mp4', 'VID_20211027_165854.mp4', 'VID_20211027_165914.mp4', 'VID_20211027_165945.mp4', 'VID_20211027_170022.mp4', 'VID_20211027_170034.mp4', 'VID_20211027_170050.mp4', 'VID_20211027_170104.mp4', 'VID_20211027_170146.mp4', 'VID_20211027_170202.mp4', 'VID_20211027_170227.mp4', 'VID_20211027_170239.mp4', 'VID_20211027_170252.mp4', 'VID_20211027_170305.mp4', 'VID_20211027_170317.mp4', 'VID_20211027_170326.mp4', 'VID_20211027_170342.mp4', 'VID_20211027_170354.mp4', 'VID_20211027_170407.mp4', 'VID_20211027_170422.mp4', 'VID_20211027_170435.mp4', 'VID_20211027_170449.mp4', 'VID_20211027_170501.mp4', 'VID_20211027_170515.mp4', 'VID_20211027_170528.mp4', 'VID_20211027_170541.mp4', 'VID_20211027_170553.mp4', 'VID_20211027_170605.mp4', 'VID_20211027_170617.mp4', 'VID_20211027_170630.mp4', 'VID_20211027_170642.mp4', 'VID_20211027_170658.mp4', 'VID_20211027_170711.mp4', 'VID_20211027_170724.mp4', 'VID_20211027_170745.mp4', 'VID_20211027_170758.mp4', 'VID_20211027_170811.mp4', 'VID_20211027_170824.mp4', 'VID_20211027_170836.mp4', 'VID_20211027_170848.mp4', 'VID_20211027_170901.mp4', 'VID_20211027_170913.mp4', 'VID_20211027_170926.mp4', 'VID_20211027_170938.mp4', 'VID_20211027_170951.mp4', 'VID_20211027_171004.mp4', 'VID_20211027_171015.mp4', 'VID_20211027_171029.mp4', 'VID_20211027_171045.mp4', 'VID_20211027_171101.mp4', 'VID_20211027_171114.mp4', 'VID_20211027_171126.mp4', 'VID_20211027_171141.mp4', 'VID_20211027_171153.mp4', 'VID_20211027_171205.mp4', 'VID_20211027_171216.mp4', 'VID_20211027_171228.mp4', 'VID_20211027_171240.mp4', 'VID_20211027_171251.mp4', 'VID_20211027_171303.mp4', 'VID_20211027_171314.mp4', 'VID_20211027_171324.mp4', 'VID_20211027_171336.mp4', 'VID_20211027_171348.mp4', 'VID_20211027_171400.mp4', 'VID_20211027_171412.mp4', 'VID_20211027_171423.mp4', 'VID_20211027_171435.mp4', 'VID_20211027_171446.mp4', 'VID_20211027_171456.mp4', 'VID_20211027_171526.mp4', 'VID_20211027_171550.mp4', 'VID_20211027_171621.mp4', 'VID_20211027_171637.mp4', 'VID_20211027_171651.mp4', 'VID_20211027_171703.mp4', 'VID_20211027_171715.mp4', 'VID_20211027_171728.mp4', 'VID_20211027_171741.mp4', 'VID_20211027_171754.mp4', 'VID_20211027_171806.mp4', 'VID_20211027_171818.mp4', 'VID_20211027_171830.mp4', 'VID_20211027_171842.mp4', 'VID_20211027_171855.mp4', 'VID_20211027_171907.mp4', 'VID_20211027_171920.mp4']\n"
     ]
    }
   ],
   "source": [
    "path = 'D:\\\\Capstone_Project_videos'\n",
    "files = os.listdir(path)\n",
    "print(files)\n",
    "exe = \"exiftool(-k).exe\"\n",
    "for i in files:\n",
    "    i = 'D:\\\\Capstone_Project_videos\\\\'+i #address + name\n",
    "    process = subprocess.Popen([exe, i], stdout=subprocess.PIPE, stderr = subprocess.STDOUT, universal_newlines=True)\n",
    "    metadata = []\n",
    "    for output in process.stdout:\n",
    "        info = {}\n",
    "        line = output.strip().split(\":\")\n",
    "        info = line\n",
    "        metadata.append(info)\n",
    "    df = pd.DataFrame(metadata) #Converting string into dataframe\n",
    "    df = df.transpose() #Transpose the dataframe\n",
    "    df = df.drop([0,1,2,3,4,5,6,7,8,9,10,11,12,13,14,15,16,17,18,19,20,21,22,23,24,25,\n",
    "                  26,27,28,30,31,32,33,34,35,36,37,38,39,40,41,42,43,44,45,46,47,48,49,50,51,52,53,\n",
    "                  54,56,57,58,59,60,61,62,63,64,65,66,67,68,69,70,71,72,73], axis=1) #Removed Un-neccesory columns\n",
    "    df.columns = ['Location','Date and Time']\n",
    "    df = df.drop(0)\n",
    "    mon = df.iloc[1]['Date and Time']\n",
    "    year = df.iloc[0]['Date and Time']\n",
    "    day = df.iloc[2]['Date and Time']\n",
    "    day = day[:2]    # Reference: https://stackoverflow.com/questions/20988835/how-to-get-the-first-2-letters-of-a-string-in-python\n",
    "    Date = mon+ ' ' +day+year #Combining Date, month and year\n",
    "    hour = df.iloc[2]['Date and Time']\n",
    "    hour = hour[3:6]\n",
    "    min = df.iloc[3]['Date and Time']\n",
    "    sec =df.iloc[4]['Date and Time']\n",
    "    hour = int(hour)\n",
    "    ampm = ''\n",
    "    if hour < 12:\n",
    "        hour = hour\n",
    "        ampm = \"AM\"\n",
    "    else:\n",
    "        hour = hour-12\n",
    "        ampm = 'PM'\n",
    "    hour = str(hour)\n",
    "    Time = hour+ ' ' +min+ ' ' +sec + ' ' +ampm\n",
    "    df = df.dropna()\n",
    "    df['Date'] = Date\n",
    "    df['Time'] = Time\n",
    "    df = df.drop(['Date and Time'], axis=1) #Droping\n",
    "    df.to_csv(\"Date_and_time.csv\", mode='a', header=False)"
   ]
  },
  {
   "cell_type": "code",
   "execution_count": null,
   "id": "f295c66f",
   "metadata": {},
   "outputs": [],
   "source": []
  },
  {
   "cell_type": "code",
   "execution_count": null,
   "id": "c418a38d",
   "metadata": {},
   "outputs": [],
   "source": []
  },
  {
   "cell_type": "code",
   "execution_count": null,
   "id": "2c5c59be",
   "metadata": {},
   "outputs": [],
   "source": []
  },
  {
   "cell_type": "code",
   "execution_count": null,
   "id": "736cc1c5",
   "metadata": {},
   "outputs": [],
   "source": []
  },
  {
   "cell_type": "code",
   "execution_count": null,
   "id": "9847ce81",
   "metadata": {},
   "outputs": [],
   "source": []
  },
  {
   "cell_type": "code",
   "execution_count": null,
   "id": "8f55c176",
   "metadata": {},
   "outputs": [],
   "source": []
  },
  {
   "cell_type": "code",
   "execution_count": null,
   "id": "47388b78",
   "metadata": {},
   "outputs": [],
   "source": []
  },
  {
   "cell_type": "code",
   "execution_count": null,
   "id": "23bdc79a",
   "metadata": {},
   "outputs": [],
   "source": []
  },
  {
   "cell_type": "code",
   "execution_count": null,
   "id": "d8f633a4",
   "metadata": {},
   "outputs": [],
   "source": []
  },
  {
   "cell_type": "code",
   "execution_count": null,
   "id": "7af4f502",
   "metadata": {},
   "outputs": [],
   "source": []
  },
  {
   "cell_type": "code",
   "execution_count": null,
   "id": "8e500ede",
   "metadata": {},
   "outputs": [],
   "source": []
  },
  {
   "cell_type": "code",
   "execution_count": null,
   "id": "d2b71003",
   "metadata": {},
   "outputs": [],
   "source": [
    "input_file = \"VID_20211027_162937.mp4\""
   ]
  },
  {
   "cell_type": "code",
   "execution_count": null,
   "id": "4fea9b14",
   "metadata": {},
   "outputs": [],
   "source": [
    "exe = \"exiftool(-k).exe\"\n",
    "process = subprocess.Popen([exe, input_file], stdout=subprocess.PIPE, stderr = subprocess.STDOUT, universal_newlines=True)\n",
    "metadata = []\n",
    "for output in process.stdout:\n",
    "    info = {}\n",
    "    line = output.strip().split(\":\")\n",
    "    info = line\n",
    "    metadata.append(info)\n",
    "df = pd.DataFrame(metadata) #Converting string into dataframe\n",
    "df = df.transpose() #Transpose the dataframe\n",
    "df = df.drop([0,1,2,3,4,5,6,7,8,9,10,11,12,13,14,15,16,17,18,19,20,21,22,23,24,25,\n",
    "              26,27,28,30,31,32,33,34,35,36,37,38,39,40,41,42,43,44,45,46,47,48,49,50,51,52,53,\n",
    "              54,56,57,58,59,60,61,62,63,64,65,66,67,68,69,70,71,72,73], axis=1) #Removed Un-neccesory columns\n",
    "df.columns = ['Location','Date and Time']\n",
    "df = df.drop(0)\n",
    "mon = df.iloc[1]['Date and Time']\n",
    "year = df.iloc[0]['Date and Time']\n",
    "day = df.iloc[2]['Date and Time']\n",
    "day = day[:2]    # Reference: https://stackoverflow.com/questions/20988835/how-to-get-the-first-2-letters-of-a-string-in-python\n",
    "Date = mon+ ' ' +day+year #Combining Date, month and year\n",
    "hour = df.iloc[2]['Date and Time']\n",
    "hour = hour[3:6]\n",
    "min = df.iloc[3]['Date and Time']\n",
    "sec =df.iloc[4]['Date and Time']\n",
    "hour = int(hour)\n",
    "ampm = ''\n",
    "if hour < 12:\n",
    "    hour = hour\n",
    "    ampm = \"AM\"\n",
    "else:\n",
    "    hour = hour-12\n",
    "    ampm = 'PM'\n",
    "hour = str(hour)\n",
    "Time = hour+ ' ' +min+ ' ' +sec + ' ' +ampm\n",
    "df = df.dropna()\n",
    "df['Date'] = Date\n",
    "df['Time'] = Time\n",
    "df = df.drop(['Date and Time'], axis=1) #Droping"
   ]
  },
  {
   "cell_type": "code",
   "execution_count": null,
   "id": "c76b1ef9",
   "metadata": {},
   "outputs": [],
   "source": [
    "df"
   ]
  },
  {
   "cell_type": "code",
   "execution_count": null,
   "id": "03fb0a10",
   "metadata": {},
   "outputs": [],
   "source": []
  },
  {
   "cell_type": "code",
   "execution_count": null,
   "id": "2fc7be05",
   "metadata": {},
   "outputs": [],
   "source": [
    "for i in files:\n",
    "    i = 'C:\\\\Users\\\\surji\\\\Downloads\\\\College\\\\Sem-3\\\\AML_3406_2\\\\Code and videos\\\\Vehicle Detection Raw Videos\\\\'+i #address + name\n",
    "    process = subprocess.Popen([exe, i], stdout=subprocess.PIPE, stderr = subprocess.STDOUT, universal_newlines=True)\n",
    "    metadata = []\n",
    "    for output in process.stdout:\n",
    "        info = {}\n",
    "        line = output.strip().split(\":\")\n",
    "        info = line\n",
    "        metadata.append(info)\n",
    "    df = pd.DataFrame(metadata) #Converting string into dataframe\n",
    "    df = df.transpose() #Transpose the dataframe\n",
    "    df = df.drop([0,1,2,3,4,5,6,7,8,9,10,11,12,13,14,15,16,17,18,19,20,21,22,23,24,25,\n",
    "                  26,27,28,30,31,32,33,34,35,36,37,38,39,40,41,42,43,44,45,46,47,48,49,50,51,52,53,\n",
    "                  54,56,57,58,59,60,61,62,63,64,65,66,67,68,69,70,71,72,73], axis=1) #Removed Un-neccesory columns\n",
    "    df.columns = ['Location','Date and Time']\n",
    "    df = df.drop(0)\n",
    "    mon = df.iloc[1]['Date and Time']\n",
    "    year = df.iloc[0]['Date and Time']\n",
    "    day = df.iloc[2]['Date and Time']\n",
    "    day = day[:2]    # Reference: https://stackoverflow.com/questions/20988835/how-to-get-the-first-2-letters-of-a-string-in-python\n",
    "    Date = mon+ ' ' +day+year #Combining Date, month and year\n",
    "    hour = df.iloc[2]['Date and Time']\n",
    "    hour = hour[3:6]\n",
    "    min = df.iloc[3]['Date and Time']\n",
    "    sec =df.iloc[4]['Date and Time']\n",
    "    hour = int(hour)\n",
    "    ampm = ''\n",
    "    if hour < 12:\n",
    "        hour = hour\n",
    "        ampm = \"AM\"\n",
    "    else:\n",
    "        hour = hour-12\n",
    "        ampm = 'PM'\n",
    "    hour = str(hour)\n",
    "    Time = hour+ ' ' +min+ ' ' +sec + ' ' +ampm\n",
    "    df = df.dropna()\n",
    "    df['Date'] = Date\n",
    "    df['Time'] = Time\n",
    "    df = df.drop(['Date and Time'], axis=1) #Droping\n",
    "    with open(\"Date_and_time_Data.csv\", 'a+', newline='') as f1:\n",
    "        cwriter = csv.writer(f1)\n",
    "        cwriter.writerow([])\n",
    "    f1.close()"
   ]
  },
  {
   "cell_type": "code",
   "execution_count": null,
   "id": "406ca951",
   "metadata": {},
   "outputs": [],
   "source": [
    "df"
   ]
  },
  {
   "cell_type": "code",
   "execution_count": null,
   "id": "a8f579f9",
   "metadata": {},
   "outputs": [],
   "source": [
    "import csv\n",
    "with open(\"Date_and_time_Data.csv\", 'a+', newline='') as f1:\n",
    "    cwriter = csv.writer(f1)\n",
    "    cwriter.writerow([])\n",
    "f1.close()"
   ]
  },
  {
   "cell_type": "code",
   "execution_count": null,
   "id": "c726f734",
   "metadata": {},
   "outputs": [],
   "source": []
  }
 ],
 "metadata": {
  "kernelspec": {
   "display_name": "Python 3",
   "language": "python",
   "name": "python3"
  },
  "language_info": {
   "codemirror_mode": {
    "name": "ipython",
    "version": 3
   },
   "file_extension": ".py",
   "mimetype": "text/x-python",
   "name": "python",
   "nbconvert_exporter": "python",
   "pygments_lexer": "ipython3",
   "version": "3.8.8"
  }
 },
 "nbformat": 4,
 "nbformat_minor": 5
}
